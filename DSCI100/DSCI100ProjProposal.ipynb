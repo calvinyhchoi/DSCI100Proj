{
 "cells": [
  {
   "cell_type": "markdown",
   "id": "97be12a7-132a-4d30-a203-75f9ac319a60",
   "metadata": {},
   "source": [
    "# DSCI Group Project Proposal"
   ]
  },
  {
   "cell_type": "markdown",
   "id": "92f17dab-65a0-4c9e-9809-5576edfbc3cc",
   "metadata": {},
   "source": [
    "_Group 66 (Andrew Ahn, Calvin Choi, Allan Hu, Dishika Taneja_)"
   ]
  },
  {
   "cell_type": "markdown",
   "id": "389e8e52-f07d-4b80-b9ff-0329df979c74",
   "metadata": {},
   "source": [
    "### Introduction ###"
   ]
  },
  {
   "cell_type": "markdown",
   "id": "4464794b-a956-4c09-ac31-611367d51b85",
   "metadata": {},
   "source": [
    "**we have to make our objective and data explanation here. This can be determined after we pick a data set, maybe we can use a COVID one because they are readily available and quite relevant**"
   ]
  },
  {
   "cell_type": "markdown",
   "id": "63737313-b165-46bb-afff-356958c5c479",
   "metadata": {},
   "source": [
    "### Abstract (Preliminary exploratory data analysis)"
   ]
  },
  {
   "cell_type": "markdown",
   "id": "51cf6c5a-b0d2-45ee-84a0-d5d87fd9940f",
   "metadata": {},
   "source": [
    "- Demonstrate that the dataset can be read from the web into R \n",
    "- Clean and wrangle your data into a tidy format"
   ]
  },
  {
   "cell_type": "markdown",
   "id": "3f31ad0e-aabf-4a54-b527-521f6a9388ec",
   "metadata": {},
   "source": [
    "### Methods"
   ]
  },
  {
   "cell_type": "markdown",
   "id": "a79f04fb-1c62-4c5a-859b-96b685e9c61a",
   "metadata": {},
   "source": [
    "Explain how you will conduct either your data analysis and which variables/columns you will use\n",
    "- We can use statistical analysis i.e t test to find the right variables to use for our predictive analysis\n",
    "- Alternatively we can just graph out and solve for the R squared to find which variables can best explain a relationship\n",
    "- The expectations say to create a visualization but it doesn't necessarily say we have to make it in ggplot, we can make in tableau or powerB"
   ]
  },
  {
   "cell_type": "markdown",
   "id": "09c43146-fece-4c6d-aa5d-9cbd1263d1ff",
   "metadata": {},
   "source": [
    "### Hypothesis (Expected outcomes and significance)"
   ]
  },
  {
   "cell_type": "markdown",
   "id": "7877dd5a-6f1e-4690-9014-e03589989dfb",
   "metadata": {},
   "source": []
  }
 ],
 "metadata": {
  "kernelspec": {
   "display_name": "R",
   "language": "R",
   "name": "ir"
  },
  "language_info": {
   "codemirror_mode": "r",
   "file_extension": ".r",
   "mimetype": "text/x-r-source",
   "name": "R",
   "pygments_lexer": "r",
   "version": "4.1.3"
  }
 },
 "nbformat": 4,
 "nbformat_minor": 5
}
