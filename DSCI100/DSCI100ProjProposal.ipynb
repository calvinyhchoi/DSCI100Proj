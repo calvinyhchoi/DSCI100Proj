{
 "cells": [
  {
   "cell_type": "markdown",
   "id": "97be12a7-132a-4d30-a203-75f9ac319a60",
   "metadata": {},
   "source": [
    "# DSCI Group Project Proposal"
   ]
  },
  {
   "cell_type": "markdown",
   "id": "92f17dab-65a0-4c9e-9809-5576edfbc3cc",
   "metadata": {},
   "source": [
    "_Group 66 (Andrew Ahn, Calvin Choi, Allan Hu, Dishika Taneja_)"
   ]
  },
  {
   "cell_type": "markdown",
   "id": "389e8e52-f07d-4b80-b9ff-0329df979c74",
   "metadata": {},
   "source": [
    "### Introduction ###"
   ]
  },
  {
   "cell_type": "code",
   "execution_count": null,
   "id": "c07a323e-2942-4260-8b7e-60b9766b83cf",
   "metadata": {},
   "outputs": [],
   "source": []
  },
  {
   "cell_type": "markdown",
   "id": "63737313-b165-46bb-afff-356958c5c479",
   "metadata": {},
   "source": [
    "### Abstract (Preliminary exploratory data analysis)"
   ]
  },
  {
   "cell_type": "code",
   "execution_count": null,
   "id": "9b5ec1cd-7ad2-48c5-9589-6ceb168e611f",
   "metadata": {},
   "outputs": [],
   "source": []
  },
  {
   "cell_type": "markdown",
   "id": "3f31ad0e-aabf-4a54-b527-521f6a9388ec",
   "metadata": {},
   "source": [
    "### Methods"
   ]
  },
  {
   "cell_type": "code",
   "execution_count": null,
   "id": "2d86563c-ace5-40eb-8af0-c454ea7330cf",
   "metadata": {},
   "outputs": [],
   "source": []
  },
  {
   "cell_type": "markdown",
   "id": "09c43146-fece-4c6d-aa5d-9cbd1263d1ff",
   "metadata": {},
   "source": [
    "### Hypothesis (Expected outcomes and significance)"
   ]
  },
  {
   "cell_type": "markdown",
   "id": "7877dd5a-6f1e-4690-9014-e03589989dfb",
   "metadata": {},
   "source": []
  }
 ],
 "metadata": {
  "kernelspec": {
   "display_name": "R",
   "language": "R",
   "name": "ir"
  },
  "language_info": {
   "codemirror_mode": "r",
   "file_extension": ".r",
   "mimetype": "text/x-r-source",
   "name": "R",
   "pygments_lexer": "r",
   "version": "4.1.3"
  }
 },
 "nbformat": 4,
 "nbformat_minor": 5
}
