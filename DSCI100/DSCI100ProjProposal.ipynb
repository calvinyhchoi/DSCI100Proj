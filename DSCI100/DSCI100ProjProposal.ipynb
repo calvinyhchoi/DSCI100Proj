{
 "cells": [
  {
   "cell_type": "markdown",
   "id": "97be12a7-132a-4d30-a203-75f9ac319a60",
   "metadata": {},
   "source": [
    "# DSCI Group Project Proposal - Pulsar Stars"
   ]
  },
  {
   "cell_type": "markdown",
   "id": "92f17dab-65a0-4c9e-9809-5576edfbc3cc",
   "metadata": {},
   "source": [
    "_Group 66 (Andrew Ahn, Calvin Choi, Allan Hu, Dishika Taneja_)"
   ]
  },
  {
   "cell_type": "markdown",
   "id": "389e8e52-f07d-4b80-b9ff-0329df979c74",
   "metadata": {},
   "source": [
    "### Introduction ###"
   ]
  },
  {
   "cell_type": "markdown",
   "id": "4464794b-a956-4c09-ac31-611367d51b85",
   "metadata": {},
   "source": [
    "Pulsar stars are rapidly rotating neutron stars that emit electromagnetic waves from its poles. As it spins, the \"beam\" of electromagnetic waves sweeps across Earth. The period of time between each sweep is useful to scientists for things like probes of space-time or precise clocks.\n",
    "\n",
    "These stars can be measured and found based on the radio waves that they release, but since the stars are so far away and there are so many of them, it can be very time consuming to determine whether any star is a pulsar star or not. Furthermore, many radio signals received by our measuring devices are caused by inteference or noise, which means that they don't represent a pulsar star. In this project, we will try to make a model that can predict whether a radio observation is a pulsar star to allow for rapid analysis of radio wave data coming from space.\n",
    "\n",
    "To do this, we will use the HTRU2 data set from the UC Irving Machine Learning Repository. This dataset features many radio signal observations taken from space, with 1,639 actual pulsar star examples and 16,259 observations of noise. The data taken for each observation includes mean, standard deviation, excess kurtosis, and skew for both the pulse profile and the DM-SNR curve for the signal.\n",
    "\n",
    "(temp note: See this citation for more information about the pulse profile and DM-SNR curve:\n",
    "\n",
    "R. J. Lyon, 'Why Are Pulsars Hard To Find?', PhD Thesis, University of Manchester, 2016.)"
   ]
  },
  {
   "cell_type": "markdown",
   "id": "63737313-b165-46bb-afff-356958c5c479",
   "metadata": {},
   "source": [
    "### Abstract (Preliminary exploratory data analysis)"
   ]
  },
  {
   "cell_type": "code",
   "execution_count": 5,
   "id": "bb8a91ee-2e69-4508-95ca-2843a84bfc0d",
   "metadata": {},
   "outputs": [
    {
     "name": "stderr",
     "output_type": "stream",
     "text": [
      "Registered S3 method overwritten by 'GGally':\n",
      "  method from   \n",
      "  +.gg   ggplot2\n",
      "\n"
     ]
    }
   ],
   "source": [
    "library(tidyverse)\n",
    "library(tidymodels)\n",
    "library(GGally)\n",
    "options(repr.matrix.max.rows = 6)"
   ]
  },
  {
   "cell_type": "code",
   "execution_count": 14,
   "id": "73fc89b2-92d5-452f-bf16-a2b155785216",
   "metadata": {},
   "outputs": [
    {
     "name": "stderr",
     "output_type": "stream",
     "text": [
      "\u001b[1mRows: \u001b[22m\u001b[34m17898\u001b[39m \u001b[1mColumns: \u001b[22m\u001b[34m9\u001b[39m\n",
      "\u001b[36m──\u001b[39m \u001b[1mColumn specification\u001b[22m \u001b[36m────────────────────────────────────────────────────────\u001b[39m\n",
      "\u001b[1mDelimiter:\u001b[22m \",\"\n",
      "\u001b[32mdbl\u001b[39m (9): X1, X2, X3, X4, X5, X6, X7, X8, X9\n",
      "\n",
      "\u001b[36mℹ\u001b[39m Use `spec()` to retrieve the full column specification for this data.\n",
      "\u001b[36mℹ\u001b[39m Specify the column types or set `show_col_types = FALSE` to quiet this message.\n"
     ]
    },
    {
     "data": {
      "text/html": [
       "<table class=\"dataframe\">\n",
       "<caption>A tibble: 17898 × 9</caption>\n",
       "<thead>\n",
       "\t<tr><th scope=col>profile_mean</th><th scope=col>profile_std</th><th scope=col>profile_exk</th><th scope=col>profile_skew</th><th scope=col>curve_mean</th><th scope=col>curve_std</th><th scope=col>curve_exk</th><th scope=col>curve_skew</th><th scope=col>class</th></tr>\n",
       "\t<tr><th scope=col>&lt;dbl&gt;</th><th scope=col>&lt;dbl&gt;</th><th scope=col>&lt;dbl&gt;</th><th scope=col>&lt;dbl&gt;</th><th scope=col>&lt;dbl&gt;</th><th scope=col>&lt;dbl&gt;</th><th scope=col>&lt;dbl&gt;</th><th scope=col>&lt;dbl&gt;</th><th scope=col>&lt;fct&gt;</th></tr>\n",
       "</thead>\n",
       "<tbody>\n",
       "\t<tr><td>140.5625</td><td>55.68378</td><td>-0.2345714</td><td>-0.6996484</td><td>3.199833</td><td>19.11043</td><td> 7.975532</td><td> 74.24222</td><td>0</td></tr>\n",
       "\t<tr><td>102.5078</td><td>58.88243</td><td> 0.4653182</td><td>-0.5150879</td><td>1.677258</td><td>14.86015</td><td>10.576487</td><td>127.39358</td><td>0</td></tr>\n",
       "\t<tr><td>103.0156</td><td>39.34165</td><td> 0.3233284</td><td> 1.0511644</td><td>3.121237</td><td>21.74467</td><td> 7.735822</td><td> 63.17191</td><td>0</td></tr>\n",
       "\t<tr><td>⋮</td><td>⋮</td><td>⋮</td><td>⋮</td><td>⋮</td><td>⋮</td><td>⋮</td><td>⋮</td><td>⋮</td></tr>\n",
       "\t<tr><td>119.3359</td><td>59.93594</td><td>0.1593631</td><td>-0.74302540</td><td> 21.430602</td><td>58.87200</td><td> 2.499517</td><td>  4.595173</td><td>0</td></tr>\n",
       "\t<tr><td>114.5078</td><td>53.90240</td><td>0.2011614</td><td>-0.02478884</td><td>  1.946488</td><td>13.38173</td><td>10.007967</td><td>134.238910</td><td>0</td></tr>\n",
       "\t<tr><td> 57.0625</td><td>85.79734</td><td>1.4063910</td><td> 0.08951971</td><td>188.306020</td><td>64.71256</td><td>-1.597527</td><td>  1.429475</td><td>0</td></tr>\n",
       "</tbody>\n",
       "</table>\n"
      ],
      "text/latex": [
       "A tibble: 17898 × 9\n",
       "\\begin{tabular}{lllllllll}\n",
       " profile\\_mean & profile\\_std & profile\\_exk & profile\\_skew & curve\\_mean & curve\\_std & curve\\_exk & curve\\_skew & class\\\\\n",
       " <dbl> & <dbl> & <dbl> & <dbl> & <dbl> & <dbl> & <dbl> & <dbl> & <fct>\\\\\n",
       "\\hline\n",
       "\t 140.5625 & 55.68378 & -0.2345714 & -0.6996484 & 3.199833 & 19.11043 &  7.975532 &  74.24222 & 0\\\\\n",
       "\t 102.5078 & 58.88243 &  0.4653182 & -0.5150879 & 1.677258 & 14.86015 & 10.576487 & 127.39358 & 0\\\\\n",
       "\t 103.0156 & 39.34165 &  0.3233284 &  1.0511644 & 3.121237 & 21.74467 &  7.735822 &  63.17191 & 0\\\\\n",
       "\t ⋮ & ⋮ & ⋮ & ⋮ & ⋮ & ⋮ & ⋮ & ⋮ & ⋮\\\\\n",
       "\t 119.3359 & 59.93594 & 0.1593631 & -0.74302540 &  21.430602 & 58.87200 &  2.499517 &   4.595173 & 0\\\\\n",
       "\t 114.5078 & 53.90240 & 0.2011614 & -0.02478884 &   1.946488 & 13.38173 & 10.007967 & 134.238910 & 0\\\\\n",
       "\t  57.0625 & 85.79734 & 1.4063910 &  0.08951971 & 188.306020 & 64.71256 & -1.597527 &   1.429475 & 0\\\\\n",
       "\\end{tabular}\n"
      ],
      "text/markdown": [
       "\n",
       "A tibble: 17898 × 9\n",
       "\n",
       "| profile_mean &lt;dbl&gt; | profile_std &lt;dbl&gt; | profile_exk &lt;dbl&gt; | profile_skew &lt;dbl&gt; | curve_mean &lt;dbl&gt; | curve_std &lt;dbl&gt; | curve_exk &lt;dbl&gt; | curve_skew &lt;dbl&gt; | class &lt;fct&gt; |\n",
       "|---|---|---|---|---|---|---|---|---|\n",
       "| 140.5625 | 55.68378 | -0.2345714 | -0.6996484 | 3.199833 | 19.11043 |  7.975532 |  74.24222 | 0 |\n",
       "| 102.5078 | 58.88243 |  0.4653182 | -0.5150879 | 1.677258 | 14.86015 | 10.576487 | 127.39358 | 0 |\n",
       "| 103.0156 | 39.34165 |  0.3233284 |  1.0511644 | 3.121237 | 21.74467 |  7.735822 |  63.17191 | 0 |\n",
       "| ⋮ | ⋮ | ⋮ | ⋮ | ⋮ | ⋮ | ⋮ | ⋮ | ⋮ |\n",
       "| 119.3359 | 59.93594 | 0.1593631 | -0.74302540 |  21.430602 | 58.87200 |  2.499517 |   4.595173 | 0 |\n",
       "| 114.5078 | 53.90240 | 0.2011614 | -0.02478884 |   1.946488 | 13.38173 | 10.007967 | 134.238910 | 0 |\n",
       "|  57.0625 | 85.79734 | 1.4063910 |  0.08951971 | 188.306020 | 64.71256 | -1.597527 |   1.429475 | 0 |\n",
       "\n"
      ],
      "text/plain": [
       "      profile_mean profile_std profile_exk profile_skew curve_mean curve_std\n",
       "1     140.5625     55.68378    -0.2345714  -0.6996484   3.199833   19.11043 \n",
       "2     102.5078     58.88243     0.4653182  -0.5150879   1.677258   14.86015 \n",
       "3     103.0156     39.34165     0.3233284   1.0511644   3.121237   21.74467 \n",
       "⋮     ⋮            ⋮           ⋮           ⋮            ⋮          ⋮        \n",
       "17896 119.3359     59.93594    0.1593631   -0.74302540   21.430602 58.87200 \n",
       "17897 114.5078     53.90240    0.2011614   -0.02478884    1.946488 13.38173 \n",
       "17898  57.0625     85.79734    1.4063910    0.08951971  188.306020 64.71256 \n",
       "      curve_exk curve_skew class\n",
       "1      7.975532  74.24222  0    \n",
       "2     10.576487 127.39358  0    \n",
       "3      7.735822  63.17191  0    \n",
       "⋮     ⋮         ⋮          ⋮    \n",
       "17896  2.499517   4.595173 0    \n",
       "17897 10.007967 134.238910 0    \n",
       "17898 -1.597527   1.429475 0    "
      ]
     },
     "metadata": {},
     "output_type": "display_data"
    }
   ],
   "source": [
    "\n",
    "signals <- read_csv(\"data/HTRU_2.csv\", col_names = FALSE) |>\n",
    "    rename(profile_mean = X1, profile_std = X2, profile_exk = X3, profile_skew = X4,\n",
    "                       curve_mean = X5, curve_std = X6, curve_exk = X7, curve_skew = X8, class = X9)\n",
    "signals_set <- signals |>\n",
    "    mutate(class = as_factor(class))\n",
    "signals_set"
   ]
  },
  {
   "cell_type": "markdown",
   "id": "12c78578-316b-42a1-8eb7-c7f1eb5bb8d9",
   "metadata": {},
   "source": [
    "In order, the columns contain the variables: Mean of the integrated profile, Standard Deviation of the integrated profile, Excess kurtosis of the integrated profile, Skewness of the integrated profile, then the following four are the same except for the DM-SNR curve. The last column shows the class, where 1 indicates a pulsar star and 0 indicates noise or interference."
   ]
  },
  {
   "cell_type": "code",
   "execution_count": 24,
   "id": "35883f8e-cae0-4cea-a5a0-4a5baa0fc89e",
   "metadata": {},
   "outputs": [
    {
     "data": {
      "text/html": [
       "<table class=\"dataframe\">\n",
       "<caption>A tibble: 13423 × 9</caption>\n",
       "<thead>\n",
       "\t<tr><th scope=col>profile_mean</th><th scope=col>profile_std</th><th scope=col>profile_exk</th><th scope=col>profile_skew</th><th scope=col>curve_mean</th><th scope=col>curve_std</th><th scope=col>curve_exk</th><th scope=col>curve_skew</th><th scope=col>class</th></tr>\n",
       "\t<tr><th scope=col>&lt;dbl&gt;</th><th scope=col>&lt;dbl&gt;</th><th scope=col>&lt;dbl&gt;</th><th scope=col>&lt;dbl&gt;</th><th scope=col>&lt;dbl&gt;</th><th scope=col>&lt;dbl&gt;</th><th scope=col>&lt;dbl&gt;</th><th scope=col>&lt;dbl&gt;</th><th scope=col>&lt;fct&gt;</th></tr>\n",
       "</thead>\n",
       "<tbody>\n",
       "\t<tr><td>140.5625</td><td>55.68378</td><td>-0.2345714</td><td>-0.6996484</td><td>3.199833</td><td>19.11043</td><td> 7.975532</td><td> 74.24222</td><td>0</td></tr>\n",
       "\t<tr><td>102.5078</td><td>58.88243</td><td> 0.4653182</td><td>-0.5150879</td><td>1.677258</td><td>14.86015</td><td>10.576487</td><td>127.39358</td><td>0</td></tr>\n",
       "\t<tr><td>103.0156</td><td>39.34165</td><td> 0.3233284</td><td> 1.0511644</td><td>3.121237</td><td>21.74467</td><td> 7.735822</td><td> 63.17191</td><td>0</td></tr>\n",
       "\t<tr><td>⋮</td><td>⋮</td><td>⋮</td><td>⋮</td><td>⋮</td><td>⋮</td><td>⋮</td><td>⋮</td><td>⋮</td></tr>\n",
       "\t<tr><td>119.3359</td><td>59.93594</td><td>0.1593631</td><td>-0.74302540</td><td> 21.430602</td><td>58.87200</td><td> 2.499517</td><td>  4.595173</td><td>0</td></tr>\n",
       "\t<tr><td>114.5078</td><td>53.90240</td><td>0.2011614</td><td>-0.02478884</td><td>  1.946488</td><td>13.38173</td><td>10.007967</td><td>134.238910</td><td>0</td></tr>\n",
       "\t<tr><td> 57.0625</td><td>85.79734</td><td>1.4063910</td><td> 0.08951971</td><td>188.306020</td><td>64.71256</td><td>-1.597527</td><td>  1.429475</td><td>0</td></tr>\n",
       "</tbody>\n",
       "</table>\n"
      ],
      "text/latex": [
       "A tibble: 13423 × 9\n",
       "\\begin{tabular}{lllllllll}\n",
       " profile\\_mean & profile\\_std & profile\\_exk & profile\\_skew & curve\\_mean & curve\\_std & curve\\_exk & curve\\_skew & class\\\\\n",
       " <dbl> & <dbl> & <dbl> & <dbl> & <dbl> & <dbl> & <dbl> & <dbl> & <fct>\\\\\n",
       "\\hline\n",
       "\t 140.5625 & 55.68378 & -0.2345714 & -0.6996484 & 3.199833 & 19.11043 &  7.975532 &  74.24222 & 0\\\\\n",
       "\t 102.5078 & 58.88243 &  0.4653182 & -0.5150879 & 1.677258 & 14.86015 & 10.576487 & 127.39358 & 0\\\\\n",
       "\t 103.0156 & 39.34165 &  0.3233284 &  1.0511644 & 3.121237 & 21.74467 &  7.735822 &  63.17191 & 0\\\\\n",
       "\t ⋮ & ⋮ & ⋮ & ⋮ & ⋮ & ⋮ & ⋮ & ⋮ & ⋮\\\\\n",
       "\t 119.3359 & 59.93594 & 0.1593631 & -0.74302540 &  21.430602 & 58.87200 &  2.499517 &   4.595173 & 0\\\\\n",
       "\t 114.5078 & 53.90240 & 0.2011614 & -0.02478884 &   1.946488 & 13.38173 & 10.007967 & 134.238910 & 0\\\\\n",
       "\t  57.0625 & 85.79734 & 1.4063910 &  0.08951971 & 188.306020 & 64.71256 & -1.597527 &   1.429475 & 0\\\\\n",
       "\\end{tabular}\n"
      ],
      "text/markdown": [
       "\n",
       "A tibble: 13423 × 9\n",
       "\n",
       "| profile_mean &lt;dbl&gt; | profile_std &lt;dbl&gt; | profile_exk &lt;dbl&gt; | profile_skew &lt;dbl&gt; | curve_mean &lt;dbl&gt; | curve_std &lt;dbl&gt; | curve_exk &lt;dbl&gt; | curve_skew &lt;dbl&gt; | class &lt;fct&gt; |\n",
       "|---|---|---|---|---|---|---|---|---|\n",
       "| 140.5625 | 55.68378 | -0.2345714 | -0.6996484 | 3.199833 | 19.11043 |  7.975532 |  74.24222 | 0 |\n",
       "| 102.5078 | 58.88243 |  0.4653182 | -0.5150879 | 1.677258 | 14.86015 | 10.576487 | 127.39358 | 0 |\n",
       "| 103.0156 | 39.34165 |  0.3233284 |  1.0511644 | 3.121237 | 21.74467 |  7.735822 |  63.17191 | 0 |\n",
       "| ⋮ | ⋮ | ⋮ | ⋮ | ⋮ | ⋮ | ⋮ | ⋮ | ⋮ |\n",
       "| 119.3359 | 59.93594 | 0.1593631 | -0.74302540 |  21.430602 | 58.87200 |  2.499517 |   4.595173 | 0 |\n",
       "| 114.5078 | 53.90240 | 0.2011614 | -0.02478884 |   1.946488 | 13.38173 | 10.007967 | 134.238910 | 0 |\n",
       "|  57.0625 | 85.79734 | 1.4063910 |  0.08951971 | 188.306020 | 64.71256 | -1.597527 |   1.429475 | 0 |\n",
       "\n"
      ],
      "text/plain": [
       "      profile_mean profile_std profile_exk profile_skew curve_mean curve_std\n",
       "1     140.5625     55.68378    -0.2345714  -0.6996484   3.199833   19.11043 \n",
       "2     102.5078     58.88243     0.4653182  -0.5150879   1.677258   14.86015 \n",
       "3     103.0156     39.34165     0.3233284   1.0511644   3.121237   21.74467 \n",
       "⋮     ⋮            ⋮           ⋮           ⋮            ⋮          ⋮        \n",
       "13421 119.3359     59.93594    0.1593631   -0.74302540   21.430602 58.87200 \n",
       "13422 114.5078     53.90240    0.2011614   -0.02478884    1.946488 13.38173 \n",
       "13423  57.0625     85.79734    1.4063910    0.08951971  188.306020 64.71256 \n",
       "      curve_exk curve_skew class\n",
       "1      7.975532  74.24222  0    \n",
       "2     10.576487 127.39358  0    \n",
       "3      7.735822  63.17191  0    \n",
       "⋮     ⋮         ⋮          ⋮    \n",
       "13421  2.499517   4.595173 0    \n",
       "13422 10.007967 134.238910 0    \n",
       "13423 -1.597527   1.429475 0    "
      ]
     },
     "metadata": {},
     "output_type": "display_data"
    },
    {
     "data": {
      "text/html": [
       "<table class=\"dataframe\">\n",
       "<caption>A tibble: 1 × 8</caption>\n",
       "<thead>\n",
       "\t<tr><th scope=col>profile_mean</th><th scope=col>profile_std</th><th scope=col>profile_exk</th><th scope=col>profile_skew</th><th scope=col>curve_mean</th><th scope=col>curve_std</th><th scope=col>curve_exk</th><th scope=col>curve_skew</th></tr>\n",
       "\t<tr><th scope=col>&lt;dbl&gt;</th><th scope=col>&lt;dbl&gt;</th><th scope=col>&lt;dbl&gt;</th><th scope=col>&lt;dbl&gt;</th><th scope=col>&lt;dbl&gt;</th><th scope=col>&lt;dbl&gt;</th><th scope=col>&lt;dbl&gt;</th><th scope=col>&lt;dbl&gt;</th></tr>\n",
       "</thead>\n",
       "<tbody>\n",
       "\t<tr><td>111.1094</td><td>46.56328</td><td>0.4802872</td><td>1.790632</td><td>12.71011</td><td>26.40552</td><td>8.281586</td><td>104.3612</td></tr>\n",
       "</tbody>\n",
       "</table>\n"
      ],
      "text/latex": [
       "A tibble: 1 × 8\n",
       "\\begin{tabular}{llllllll}\n",
       " profile\\_mean & profile\\_std & profile\\_exk & profile\\_skew & curve\\_mean & curve\\_std & curve\\_exk & curve\\_skew\\\\\n",
       " <dbl> & <dbl> & <dbl> & <dbl> & <dbl> & <dbl> & <dbl> & <dbl>\\\\\n",
       "\\hline\n",
       "\t 111.1094 & 46.56328 & 0.4802872 & 1.790632 & 12.71011 & 26.40552 & 8.281586 & 104.3612\\\\\n",
       "\\end{tabular}\n"
      ],
      "text/markdown": [
       "\n",
       "A tibble: 1 × 8\n",
       "\n",
       "| profile_mean &lt;dbl&gt; | profile_std &lt;dbl&gt; | profile_exk &lt;dbl&gt; | profile_skew &lt;dbl&gt; | curve_mean &lt;dbl&gt; | curve_std &lt;dbl&gt; | curve_exk &lt;dbl&gt; | curve_skew &lt;dbl&gt; |\n",
       "|---|---|---|---|---|---|---|---|\n",
       "| 111.1094 | 46.56328 | 0.4802872 | 1.790632 | 12.71011 | 26.40552 | 8.281586 | 104.3612 |\n",
       "\n"
      ],
      "text/plain": [
       "  profile_mean profile_std profile_exk profile_skew curve_mean curve_std\n",
       "1 111.1094     46.56328    0.4802872   1.790632     12.71011   26.40552 \n",
       "  curve_exk curve_skew\n",
       "1 8.281586  104.3612  "
      ]
     },
     "metadata": {},
     "output_type": "display_data"
    },
    {
     "data": {
      "text/html": [
       "<table class=\"dataframe\">\n",
       "<caption>A tibble: 2 × 2</caption>\n",
       "<thead>\n",
       "\t<tr><th scope=col>class</th><th scope=col>n</th></tr>\n",
       "\t<tr><th scope=col>&lt;fct&gt;</th><th scope=col>&lt;int&gt;</th></tr>\n",
       "</thead>\n",
       "<tbody>\n",
       "\t<tr><td>0</td><td>12186</td></tr>\n",
       "\t<tr><td>1</td><td> 1237</td></tr>\n",
       "</tbody>\n",
       "</table>\n"
      ],
      "text/latex": [
       "A tibble: 2 × 2\n",
       "\\begin{tabular}{ll}\n",
       " class & n\\\\\n",
       " <fct> & <int>\\\\\n",
       "\\hline\n",
       "\t 0 & 12186\\\\\n",
       "\t 1 &  1237\\\\\n",
       "\\end{tabular}\n"
      ],
      "text/markdown": [
       "\n",
       "A tibble: 2 × 2\n",
       "\n",
       "| class &lt;fct&gt; | n &lt;int&gt; |\n",
       "|---|---|\n",
       "| 0 | 12186 |\n",
       "| 1 |  1237 |\n",
       "\n"
      ],
      "text/plain": [
       "  class n    \n",
       "1 0     12186\n",
       "2 1      1237"
      ]
     },
     "metadata": {},
     "output_type": "display_data"
    }
   ],
   "source": [
    "signals_split <- initial_split(signals_set, prop = 0.75, strata = class)\n",
    "signals_training <- training(signals_split)\n",
    "signals_testing <- testing(signals_split)\n",
    "signals_training\n",
    "signals_means <- signals_training |>\n",
    "    select(!class) |>\n",
    "    map_df(mean)\n",
    "signals_means #Can be used to decide if normalization is needed.\n",
    "signals_class <- signals_training |>\n",
    "    group_by(class) |>\n",
    "    summarize(n = n())\n",
    "signals_class #Shows how many pulsars there are and how many noise signals there are in the training set."
   ]
  },
  {
   "cell_type": "markdown",
   "id": "51cf6c5a-b0d2-45ee-84a0-d5d87fd9940f",
   "metadata": {},
   "source": [
    "- Demonstrate that the dataset can be read from the web into R \n",
    "- Clean and wrangle your data into a tidy format\n",
    "- Using only **training data** , summarize the data in at least one table (this is exploratory data analysis). An example of a useful table could be one that reports the number of observations in each class, the means of the predictor variables you plan to use in your analysis and how many rows have missing data. \n",
    "- Using only **training data**, visualize the data with at least one plot relevant to the analysis you plan to do (this is exploratory data analysis). An example of a useful visualization could be one that compares the distributions of each of the predictor variables you plan to use in your analysis."
   ]
  },
  {
   "cell_type": "markdown",
   "id": "3f31ad0e-aabf-4a54-b527-521f6a9388ec",
   "metadata": {},
   "source": [
    "### Methods"
   ]
  },
  {
   "cell_type": "markdown",
   "id": "a79f04fb-1c62-4c5a-859b-96b685e9c61a",
   "metadata": {},
   "source": [
    "Explain how you will conduct either your data analysis and which variables/columns you will use.\n",
    "\n",
    "After reading about the DM-SNR curve and integrated profile, I believe \n",
    "\n",
    "- We can use statistical analysis i.e t test to find the right variables to use for our predictive analysis\n",
    "- Alternatively we can just graph out and solve for the R squared to find which variables can best explain a relationship\n",
    "- The expectations say to create a visualization but it doesn't necessarily say we have to make it in ggplot, we can make in tableau or powerBI if we want to be extra fancy"
   ]
  },
  {
   "cell_type": "markdown",
   "id": "09c43146-fece-4c6d-aa5d-9cbd1263d1ff",
   "metadata": {},
   "source": [
    "### Hypothesis (Expected outcomes and significance)"
   ]
  },
  {
   "cell_type": "code",
   "execution_count": 1,
   "id": "09f29b25-4c7c-4a8d-aeb1-218c55e5fb9e",
   "metadata": {},
   "outputs": [
    {
     "data": {
      "text/html": [
       "No documentation for ‘ggpair’ in specified packages and libraries:\n",
       "you could try ‘??ggpair’"
      ],
      "text/latex": [
       "No documentation for ‘ggpair’ in specified packages and libraries:\n",
       "you could try ‘??ggpair’"
      ],
      "text/plain": [
       "No documentation for ‘ggpair’ in specified packages and libraries:\n",
       "you could try ‘??ggpair’"
      ]
     },
     "metadata": {},
     "output_type": "display_data"
    }
   ],
   "source": []
  }
 ],
 "metadata": {
  "kernelspec": {
   "display_name": "R",
   "language": "R",
   "name": "ir"
  },
  "language_info": {
   "codemirror_mode": "r",
   "file_extension": ".r",
   "mimetype": "text/x-r-source",
   "name": "R",
   "pygments_lexer": "r",
   "version": "4.1.3"
  }
 },
 "nbformat": 4,
 "nbformat_minor": 5
}
